{
 "cells": [
  {
   "cell_type": "code",
   "execution_count": 5,
   "metadata": {},
   "outputs": [
    {
     "name": "stdout",
     "output_type": "stream",
     "text": [
      "Enter marks of the first subject: 33\n",
      "Enter marks of the second subject: 44\n",
      "Enter marks of the third subject: 55\n",
      "Enter marks of the fourth subject: 33\n",
      "Enter marks of the fifth subject: 55\n"
     ]
    },
    {
     "ename": "TypeError",
     "evalue": "unsupported operand type(s) for &: 'int' and 'float'",
     "output_type": "error",
     "traceback": [
      "\u001b[1;31m---------------------------------------------------------------------------\u001b[0m",
      "\u001b[1;31mTypeError\u001b[0m                                 Traceback (most recent call last)",
      "\u001b[1;32m<ipython-input-5-ae35ee19bea2>\u001b[0m in \u001b[0;36m<module>\u001b[1;34m\u001b[0m\n\u001b[0;32m      9\u001b[0m \u001b[1;32mif\u001b[0m\u001b[1;33m(\u001b[0m\u001b[0mavg\u001b[0m\u001b[1;33m>=\u001b[0m\u001b[1;36m90\u001b[0m\u001b[1;33m)\u001b[0m\u001b[1;33m:\u001b[0m\u001b[1;33m\u001b[0m\u001b[1;33m\u001b[0m\u001b[0m\n\u001b[0;32m     10\u001b[0m     \u001b[0mprint\u001b[0m\u001b[1;33m(\u001b[0m\u001b[1;34m\"Grade: A\"\u001b[0m\u001b[1;33m)\u001b[0m\u001b[1;33m\u001b[0m\u001b[1;33m\u001b[0m\u001b[0m\n\u001b[1;32m---> 11\u001b[1;33m \u001b[1;32melif\u001b[0m\u001b[1;33m(\u001b[0m\u001b[0mavg\u001b[0m\u001b[1;33m>=\u001b[0m\u001b[1;36m80\u001b[0m\u001b[1;33m&\u001b[0m\u001b[0mavg\u001b[0m\u001b[1;33m<\u001b[0m\u001b[1;36m90\u001b[0m\u001b[1;33m)\u001b[0m\u001b[1;33m:\u001b[0m\u001b[1;33m\u001b[0m\u001b[1;33m\u001b[0m\u001b[0m\n\u001b[0m\u001b[0;32m     12\u001b[0m     \u001b[0mprint\u001b[0m\u001b[1;33m(\u001b[0m\u001b[1;34m\"Grade: B\"\u001b[0m\u001b[1;33m)\u001b[0m\u001b[1;33m\u001b[0m\u001b[1;33m\u001b[0m\u001b[0m\n\u001b[0;32m     13\u001b[0m \u001b[1;32melif\u001b[0m\u001b[1;33m(\u001b[0m\u001b[0mavg\u001b[0m\u001b[1;33m>=\u001b[0m\u001b[1;36m70\u001b[0m\u001b[1;33m&\u001b[0m\u001b[0mavg\u001b[0m\u001b[1;33m<\u001b[0m\u001b[1;36m80\u001b[0m\u001b[1;33m)\u001b[0m\u001b[1;33m:\u001b[0m\u001b[1;33m\u001b[0m\u001b[1;33m\u001b[0m\u001b[0m\n",
      "\u001b[1;31mTypeError\u001b[0m: unsupported operand type(s) for &: 'int' and 'float'"
     ]
    }
   ],
   "source": [
    "subject1=int(input(\"Enter marks of the first subject: \")) \n",
    "subject2=int(input(\"Enter marks of the second subject: \")) \n",
    "subject3=int(input(\"Enter marks of the third subject: \")) \n",
    "subject4=int(input(\"Enter marks of the fourth subject: \")) \n",
    "subject5=int(input(\"Enter marks of the fifth subject: \")) \n",
    "\n",
    "avg=(subject1+subject2+subject3+subject4+subject5)/5 \n",
    "\n",
    "if(avg>=90):\n",
    "    print(\"Grade: A\") \n",
    "elif(avg>=80&avg<90): \n",
    "    print(\"Grade: B\") \n",
    "elif(avg>=70&avg<80):\n",
    "    print(\"Grade: C\") \n",
    "elif(avg>=60&avg<70): \n",
    "    print(\"Grade: D\") \n",
    "else: \n",
    "    print(\"Grade: F\")\n",
    "    \n",
    "    \n",
    "    \n",
    "    \n",
    "number=input(\"Input Number\")\n",
    "If(number % 2 = 0)\n",
    "print(\"Even\")\n",
    "else\n",
    "print(\"Odd\")\n",
    "\n",
    "\n",
    "list1=[2,4,7,7,8,5,6]\n",
    "Print(len(list1))\n",
    "\n",
    "\n",
    "list2= [ ] \n",
    "num = int(input('How many numbers: ')) \n",
    "for n in range(num): numbers = int(input('Enter number ')) print(sum(list2))\n",
    "    \n",
    "    \n",
    "    \n",
    "list3 = [ ]\n",
    "num = int(input('How many numbers: '))\n",
    "for n in range(num):\n",
    "numbers = int(input('Enter number '))\n",
    "list3.append(numbers)\n",
    "print(max(list3))"
   ]
  },
  {
   "cell_type": "code",
   "execution_count": null,
   "metadata": {},
   "outputs": [],
   "source": [
    "subject1=int(input(\"Enter marks of the first subject: \")) \n",
    "subject2=int(input(\"Enter marks of the second subject: \")) \n",
    "subject3=int(input(\"Enter marks of the third subject: \")) \n",
    "subject4=int(input(\"Enter marks of the fourth subject: \")) \n",
    "subject5=int(input(\"Enter marks of the fifth subject: \")) \n",
    "\n",
    "avg=(subject1+subject2+subject3+subject4+subject5)/5 \n",
    "\n",
    "if(avg>=90):\n",
    "    print(\"Grade: A\") \n",
    "elif(avg>=80&avg<90): \n",
    "    print(\"Grade: B\") \n",
    "elif(avg>=70&avg<80):\n",
    "    print(\"Grade: C\") \n",
    "elif(avg>=60&avg<70): \n",
    "    print(\"Grade: D\") \n",
    "else: \n",
    "    print(\"Grade: F\")"
   ]
  }
 ],
 "metadata": {
  "kernelspec": {
   "display_name": "Python 3",
   "language": "python",
   "name": "python3"
  },
  "language_info": {
   "codemirror_mode": {
    "name": "ipython",
    "version": 3
   },
   "file_extension": ".py",
   "mimetype": "text/x-python",
   "name": "python",
   "nbconvert_exporter": "python",
   "pygments_lexer": "ipython3",
   "version": "3.7.4"
  }
 },
 "nbformat": 4,
 "nbformat_minor": 2
}
